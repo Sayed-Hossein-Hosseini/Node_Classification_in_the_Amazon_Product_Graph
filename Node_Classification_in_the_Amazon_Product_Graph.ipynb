{
  "nbformat": 4,
  "nbformat_minor": 0,
  "metadata": {
    "colab": {
      "provenance": [],
      "authorship_tag": "ABX9TyNzDlLkzh7Zt1hD/tsr4qyy",
      "include_colab_link": true
    },
    "kernelspec": {
      "name": "python3",
      "display_name": "Python 3"
    },
    "language_info": {
      "name": "python"
    }
  },
  "cells": [
    {
      "cell_type": "markdown",
      "metadata": {
        "id": "view-in-github",
        "colab_type": "text"
      },
      "source": [
        "<a href=\"https://colab.research.google.com/github/Sayed-Hossein-Hosseini/Node_Classification_in_the_Amazon_Product_Graph/blob/master/Node_Classification_in_the_Amazon_Product_Graph.ipynb\" target=\"_parent\"><img src=\"https://colab.research.google.com/assets/colab-badge.svg\" alt=\"Open In Colab\"/></a>"
      ]
    },
    {
      "cell_type": "markdown",
      "source": [
        "# **Node Classification in the Amazon Product Graph**"
      ],
      "metadata": {
        "id": "awDPJwH4EMAL"
      }
    },
    {
      "cell_type": "markdown",
      "source": [
        "## **Libraries**"
      ],
      "metadata": {
        "id": "Tb1C9z5-Knvy"
      }
    },
    {
      "cell_type": "code",
      "execution_count": null,
      "metadata": {
        "id": "uogt7lcyEF8N"
      },
      "outputs": [],
      "source": [
        "!pip install torch torchvision torchaudio\n",
        "!pip install torch-geometric ogb\n",
        "\n",
        "from ogb.nodeproppred import PygNodePropPredDataset\n",
        "from torch_geometric.data import Data"
      ]
    }
  ]
}